{
 "cells": [
  {
   "cell_type": "code",
   "execution_count": 1,
   "metadata": {},
   "outputs": [],
   "source": [
    "import pandas as pd\n",
    "import requests\n",
    "import time\n",
    "import csv\n",
    "import os\n",
    "import re\n",
    "import wget\n",
    "from selenium import webdriver\n",
    "from selenium.webdriver.common.keys import Keys\n",
    "from bs4 import BeautifulSoup\n",
    "from selenium.webdriver.support.ui import WebDriverWait\n",
    "from selenium.webdriver.support import expected_conditions as EC\n",
    "from selenium.webdriver.common.by import By"
   ]
  },
  {
   "cell_type": "markdown",
   "metadata": {},
   "source": [
    "# Global variables"
   ]
  },
  {
   "cell_type": "code",
   "execution_count": 2,
   "metadata": {},
   "outputs": [],
   "source": [
    "videolinks=[]\n",
    "postvideo = False\n",
    "title1=''\n",
    "description=''\n",
    "url=''"
   ]
  },
  {
   "cell_type": "code",
   "execution_count": 5,
   "metadata": {},
   "outputs": [
    {
     "name": "stderr",
     "output_type": "stream",
     "text": [
      "\n",
      "\n",
      "====== WebDriver manager ======\n",
      "Current google-chrome version is 97.0.4692\n",
      "Get LATEST chromedriver version for 97.0.4692 google-chrome\n",
      "There is no [win32] chromedriver for browser  in cache\n",
      "Trying to download new driver from https://chromedriver.storage.googleapis.com/97.0.4692.71/chromedriver_win32.zip\n",
      "Driver has been saved in cache [C:\\Users\\Home\\.wdm\\drivers\\chromedriver\\win32\\97.0.4692.71]\n"
     ]
    }
   ],
   "source": [
    "from selenium import webdriver\n",
    "from webdriver_manager.chrome import ChromeDriverManager\n",
    "\n",
    "driver = webdriver.Chrome(ChromeDriverManager().install())"
   ]
  },
  {
   "cell_type": "markdown",
   "metadata": {},
   "source": [
    "# Check if new video is posted"
   ]
  },
  {
   "cell_type": "code",
   "execution_count": 6,
   "metadata": {},
   "outputs": [
    {
     "ename": "SessionNotCreatedException",
     "evalue": "Message: session not created: This version of ChromeDriver only supports Chrome version 92\nCurrent browser version is 97.0.4692.71 with binary path C:\\Program Files (x86)\\Google\\Chrome\\Application\\chrome.exe\n",
     "output_type": "error",
     "traceback": [
      "\u001b[1;31m---------------------------------------------------------------------------\u001b[0m",
      "\u001b[1;31mSessionNotCreatedException\u001b[0m                Traceback (most recent call last)",
      "\u001b[1;32m<ipython-input-6-7463d72779ea>\u001b[0m in \u001b[0;36m<module>\u001b[1;34m\u001b[0m\n\u001b[1;32m----> 1\u001b[1;33m \u001b[0mdriver\u001b[0m \u001b[1;33m=\u001b[0m \u001b[0mwebdriver\u001b[0m\u001b[1;33m.\u001b[0m\u001b[0mChrome\u001b[0m\u001b[1;33m(\u001b[0m\u001b[1;33m)\u001b[0m \u001b[1;31m# use headless\u001b[0m\u001b[1;33m\u001b[0m\u001b[1;33m\u001b[0m\u001b[0m\n\u001b[0m\u001b[0;32m      2\u001b[0m \u001b[0mdriver\u001b[0m\u001b[1;33m.\u001b[0m\u001b[0mget\u001b[0m\u001b[1;33m(\u001b[0m\u001b[1;34m'https://www.youtube.com/user/sonyliv/videos'\u001b[0m\u001b[1;33m)\u001b[0m\u001b[1;33m\u001b[0m\u001b[1;33m\u001b[0m\u001b[0m\n\u001b[0;32m      3\u001b[0m \u001b[0melements\u001b[0m \u001b[1;33m=\u001b[0m \u001b[0mdriver\u001b[0m\u001b[1;33m.\u001b[0m\u001b[0mfind_elements_by_class_name\u001b[0m\u001b[1;33m(\u001b[0m\u001b[1;34m'style-scope ytd-grid-renderer'\u001b[0m\u001b[1;33m)\u001b[0m\u001b[1;33m\u001b[0m\u001b[1;33m\u001b[0m\u001b[0m\n\u001b[0;32m      4\u001b[0m \u001b[1;33m\u001b[0m\u001b[0m\n\u001b[0;32m      5\u001b[0m \u001b[0mlinks\u001b[0m \u001b[1;33m=\u001b[0m \u001b[1;33m[\u001b[0m\u001b[1;33m]\u001b[0m\u001b[1;33m\u001b[0m\u001b[1;33m\u001b[0m\u001b[0m\n",
      "\u001b[1;32m~\\AppData\\Local\\Programs\\Python\\Python39\\lib\\site-packages\\selenium\\webdriver\\chrome\\webdriver.py\u001b[0m in \u001b[0;36m__init__\u001b[1;34m(self, executable_path, port, options, service_args, desired_capabilities, service_log_path, chrome_options, keep_alive)\u001b[0m\n\u001b[0;32m     74\u001b[0m \u001b[1;33m\u001b[0m\u001b[0m\n\u001b[0;32m     75\u001b[0m         \u001b[1;32mtry\u001b[0m\u001b[1;33m:\u001b[0m\u001b[1;33m\u001b[0m\u001b[1;33m\u001b[0m\u001b[0m\n\u001b[1;32m---> 76\u001b[1;33m             RemoteWebDriver.__init__(\n\u001b[0m\u001b[0;32m     77\u001b[0m                 \u001b[0mself\u001b[0m\u001b[1;33m,\u001b[0m\u001b[1;33m\u001b[0m\u001b[1;33m\u001b[0m\u001b[0m\n\u001b[0;32m     78\u001b[0m                 command_executor=ChromeRemoteConnection(\n",
      "\u001b[1;32m~\\AppData\\Local\\Programs\\Python\\Python39\\lib\\site-packages\\selenium\\webdriver\\remote\\webdriver.py\u001b[0m in \u001b[0;36m__init__\u001b[1;34m(self, command_executor, desired_capabilities, browser_profile, proxy, keep_alive, file_detector, options)\u001b[0m\n\u001b[0;32m    155\u001b[0m             warnings.warn(\"Please use FirefoxOptions to set browser profile\",\n\u001b[0;32m    156\u001b[0m                           DeprecationWarning, stacklevel=2)\n\u001b[1;32m--> 157\u001b[1;33m         \u001b[0mself\u001b[0m\u001b[1;33m.\u001b[0m\u001b[0mstart_session\u001b[0m\u001b[1;33m(\u001b[0m\u001b[0mcapabilities\u001b[0m\u001b[1;33m,\u001b[0m \u001b[0mbrowser_profile\u001b[0m\u001b[1;33m)\u001b[0m\u001b[1;33m\u001b[0m\u001b[1;33m\u001b[0m\u001b[0m\n\u001b[0m\u001b[0;32m    158\u001b[0m         \u001b[0mself\u001b[0m\u001b[1;33m.\u001b[0m\u001b[0m_switch_to\u001b[0m \u001b[1;33m=\u001b[0m \u001b[0mSwitchTo\u001b[0m\u001b[1;33m(\u001b[0m\u001b[0mself\u001b[0m\u001b[1;33m)\u001b[0m\u001b[1;33m\u001b[0m\u001b[1;33m\u001b[0m\u001b[0m\n\u001b[0;32m    159\u001b[0m         \u001b[0mself\u001b[0m\u001b[1;33m.\u001b[0m\u001b[0m_mobile\u001b[0m \u001b[1;33m=\u001b[0m \u001b[0mMobile\u001b[0m\u001b[1;33m(\u001b[0m\u001b[0mself\u001b[0m\u001b[1;33m)\u001b[0m\u001b[1;33m\u001b[0m\u001b[1;33m\u001b[0m\u001b[0m\n",
      "\u001b[1;32m~\\AppData\\Local\\Programs\\Python\\Python39\\lib\\site-packages\\selenium\\webdriver\\remote\\webdriver.py\u001b[0m in \u001b[0;36mstart_session\u001b[1;34m(self, capabilities, browser_profile)\u001b[0m\n\u001b[0;32m    250\u001b[0m         parameters = {\"capabilities\": w3c_caps,\n\u001b[0;32m    251\u001b[0m                       \"desiredCapabilities\": capabilities}\n\u001b[1;32m--> 252\u001b[1;33m         \u001b[0mresponse\u001b[0m \u001b[1;33m=\u001b[0m \u001b[0mself\u001b[0m\u001b[1;33m.\u001b[0m\u001b[0mexecute\u001b[0m\u001b[1;33m(\u001b[0m\u001b[0mCommand\u001b[0m\u001b[1;33m.\u001b[0m\u001b[0mNEW_SESSION\u001b[0m\u001b[1;33m,\u001b[0m \u001b[0mparameters\u001b[0m\u001b[1;33m)\u001b[0m\u001b[1;33m\u001b[0m\u001b[1;33m\u001b[0m\u001b[0m\n\u001b[0m\u001b[0;32m    253\u001b[0m         \u001b[1;32mif\u001b[0m \u001b[1;34m'sessionId'\u001b[0m \u001b[1;32mnot\u001b[0m \u001b[1;32min\u001b[0m \u001b[0mresponse\u001b[0m\u001b[1;33m:\u001b[0m\u001b[1;33m\u001b[0m\u001b[1;33m\u001b[0m\u001b[0m\n\u001b[0;32m    254\u001b[0m             \u001b[0mresponse\u001b[0m \u001b[1;33m=\u001b[0m \u001b[0mresponse\u001b[0m\u001b[1;33m[\u001b[0m\u001b[1;34m'value'\u001b[0m\u001b[1;33m]\u001b[0m\u001b[1;33m\u001b[0m\u001b[1;33m\u001b[0m\u001b[0m\n",
      "\u001b[1;32m~\\AppData\\Local\\Programs\\Python\\Python39\\lib\\site-packages\\selenium\\webdriver\\remote\\webdriver.py\u001b[0m in \u001b[0;36mexecute\u001b[1;34m(self, driver_command, params)\u001b[0m\n\u001b[0;32m    319\u001b[0m         \u001b[0mresponse\u001b[0m \u001b[1;33m=\u001b[0m \u001b[0mself\u001b[0m\u001b[1;33m.\u001b[0m\u001b[0mcommand_executor\u001b[0m\u001b[1;33m.\u001b[0m\u001b[0mexecute\u001b[0m\u001b[1;33m(\u001b[0m\u001b[0mdriver_command\u001b[0m\u001b[1;33m,\u001b[0m \u001b[0mparams\u001b[0m\u001b[1;33m)\u001b[0m\u001b[1;33m\u001b[0m\u001b[1;33m\u001b[0m\u001b[0m\n\u001b[0;32m    320\u001b[0m         \u001b[1;32mif\u001b[0m \u001b[0mresponse\u001b[0m\u001b[1;33m:\u001b[0m\u001b[1;33m\u001b[0m\u001b[1;33m\u001b[0m\u001b[0m\n\u001b[1;32m--> 321\u001b[1;33m             \u001b[0mself\u001b[0m\u001b[1;33m.\u001b[0m\u001b[0merror_handler\u001b[0m\u001b[1;33m.\u001b[0m\u001b[0mcheck_response\u001b[0m\u001b[1;33m(\u001b[0m\u001b[0mresponse\u001b[0m\u001b[1;33m)\u001b[0m\u001b[1;33m\u001b[0m\u001b[1;33m\u001b[0m\u001b[0m\n\u001b[0m\u001b[0;32m    322\u001b[0m             response['value'] = self._unwrap_value(\n\u001b[0;32m    323\u001b[0m                 response.get('value', None))\n",
      "\u001b[1;32m~\\AppData\\Local\\Programs\\Python\\Python39\\lib\\site-packages\\selenium\\webdriver\\remote\\errorhandler.py\u001b[0m in \u001b[0;36mcheck_response\u001b[1;34m(self, response)\u001b[0m\n\u001b[0;32m    240\u001b[0m                 \u001b[0malert_text\u001b[0m \u001b[1;33m=\u001b[0m \u001b[0mvalue\u001b[0m\u001b[1;33m[\u001b[0m\u001b[1;34m'alert'\u001b[0m\u001b[1;33m]\u001b[0m\u001b[1;33m.\u001b[0m\u001b[0mget\u001b[0m\u001b[1;33m(\u001b[0m\u001b[1;34m'text'\u001b[0m\u001b[1;33m)\u001b[0m\u001b[1;33m\u001b[0m\u001b[1;33m\u001b[0m\u001b[0m\n\u001b[0;32m    241\u001b[0m             \u001b[1;32mraise\u001b[0m \u001b[0mexception_class\u001b[0m\u001b[1;33m(\u001b[0m\u001b[0mmessage\u001b[0m\u001b[1;33m,\u001b[0m \u001b[0mscreen\u001b[0m\u001b[1;33m,\u001b[0m \u001b[0mstacktrace\u001b[0m\u001b[1;33m,\u001b[0m \u001b[0malert_text\u001b[0m\u001b[1;33m)\u001b[0m\u001b[1;33m\u001b[0m\u001b[1;33m\u001b[0m\u001b[0m\n\u001b[1;32m--> 242\u001b[1;33m         \u001b[1;32mraise\u001b[0m \u001b[0mexception_class\u001b[0m\u001b[1;33m(\u001b[0m\u001b[0mmessage\u001b[0m\u001b[1;33m,\u001b[0m \u001b[0mscreen\u001b[0m\u001b[1;33m,\u001b[0m \u001b[0mstacktrace\u001b[0m\u001b[1;33m)\u001b[0m\u001b[1;33m\u001b[0m\u001b[1;33m\u001b[0m\u001b[0m\n\u001b[0m\u001b[0;32m    243\u001b[0m \u001b[1;33m\u001b[0m\u001b[0m\n\u001b[0;32m    244\u001b[0m     \u001b[1;32mdef\u001b[0m \u001b[0m_value_or_default\u001b[0m\u001b[1;33m(\u001b[0m\u001b[0mself\u001b[0m\u001b[1;33m,\u001b[0m \u001b[0mobj\u001b[0m\u001b[1;33m,\u001b[0m \u001b[0mkey\u001b[0m\u001b[1;33m,\u001b[0m \u001b[0mdefault\u001b[0m\u001b[1;33m)\u001b[0m\u001b[1;33m:\u001b[0m\u001b[1;33m\u001b[0m\u001b[1;33m\u001b[0m\u001b[0m\n",
      "\u001b[1;31mSessionNotCreatedException\u001b[0m: Message: session not created: This version of ChromeDriver only supports Chrome version 92\nCurrent browser version is 97.0.4692.71 with binary path C:\\Program Files (x86)\\Google\\Chrome\\Application\\chrome.exe\n"
     ]
    }
   ],
   "source": [
    "driver = webdriver.Chrome() # use headless\n",
    "driver.get('https://www.youtube.com/user/sonyliv/videos')\n",
    "elements = driver.find_elements_by_class_name('style-scope ytd-grid-renderer')\n",
    "\n",
    "links = []\n",
    "for i in elements:\n",
    "    j = i.find_element_by_tag_name('a')\n",
    "    elems = i.find_elements_by_xpath(\"//*[@href]\")\n",
    "    for elem in elems:\n",
    "        x = str(elem.get_attribute(\"href\"))\n",
    "        if x.find(\"https://www.youtube.com/watch?\") != -1:\n",
    "            links.append(x)           \n",
    "if links[0] in videolinks:\n",
    "    postvideo = True\n",
    "else:\n",
    "    videolinks.append(links[0])"
   ]
  },
  {
   "cell_type": "markdown",
   "metadata": {},
   "source": [
    "# Youtube video details"
   ]
  },
  {
   "cell_type": "code",
   "execution_count": 4,
   "metadata": {},
   "outputs": [],
   "source": [
    "def deEmojify(text):\n",
    "    regrex_pattern = re.compile(pattern = \"[\"\n",
    "        u\"\\U0001F600-\\U0001F64F\"  # emoticons\n",
    "        u\"\\U0001F300-\\U0001F5FF\"  # symbols & pictographs\n",
    "        u\"\\U0001F680-\\U0001F6FF\"  # transport & map symbols\n",
    "        u\"\\U0001F1E0-\\U0001F1FF\"  # flags (iOS)\n",
    "                           \"]+\", flags = re.UNICODE)\n",
    "    return regrex_pattern.sub(r'',text)\n",
    "def youtube_video_details(url):\n",
    "    driver = webdriver.Chrome()\n",
    "    id = url.split(\"=\",1)[1]\n",
    "    thumbnailurl= 'https://img.youtube.com/vi/'+id + '/maxresdefault.jpg'\n",
    "    print(\"Downloading Thumbnail...\")\n",
    "    thumbnail = wget.download(thumbnailurl)\n",
    "    print(\"\\n\" + \"Thumbnail Downloaded\")\n",
    "    driver = webdriver.Chrome()\n",
    "    URL = url\n",
    "    driver.get(URL)\n",
    "    time.sleep(5)\n",
    "    title1=driver.find_element_by_css_selector('#container > h1')\n",
    "    title1 = title1.text\n",
    "    print(title1)\n",
    "    description=driver.find_element_by_class_name('content.style-scope.ytd-video-secondary-info-renderer')\n",
    "    description=description.text\n",
    "    print(description)\n",
    "    return [deEmojify(title1), deEmojify(description)]"
   ]
  },
  {
   "cell_type": "markdown",
   "metadata": {},
   "source": [
    "# Post video on linkedin "
   ]
  },
  {
   "cell_type": "code",
   "execution_count": 5,
   "metadata": {},
   "outputs": [],
   "source": [
    "def linkedin_post(email, pss, title1, description):\n",
    "    driver = webdriver.Chrome()\n",
    "    URL = f\"https://www.linkedin.com/\"\n",
    "    driver.get(URL)\n",
    "    html = driver.page_source\n",
    "    soup = BeautifulSoup(html, \"html.parser\")  \n",
    "    driver.get('https://www.linkedin.com/login')\n",
    "    username = driver.find_element_by_xpath('//input[@name=\"session_key\"]')\n",
    "    username.send_keys(email)\n",
    "    password = driver.find_element_by_xpath('//input[@name=\"session_password\"]')\n",
    "    password.send_keys(pss)\n",
    "    password.send_keys(Keys.RETURN)\n",
    "    link=url\n",
    "    print(title1)\n",
    "    print(description)\n",
    "    element = WebDriverWait(driver, 10).until(EC.element_to_be_clickable((By.XPATH, \"/html/body/div[6]/div[3]/div/div/div[2]/div/div/main/div[1]/div/div[1]/button\")))\n",
    "    element.click()\n",
    "    time.sleep(10)\n",
    "    titlepost1=driver.find_element_by_xpath('/html/body/div[3]/div/div/div[2]/div/div/div[1]/div[2]/div/div/div[2]/div/div/div[1]/p')\n",
    "    titlepost1.click()\n",
    "    titlepost1.send_keys(title1+'\\n')\n",
    "    describepost1=driver.find_element_by_xpath('/html/body/div[3]/div/div/div[2]/div/div/div[1]/div[2]/div/div/div[2]/div/div/div[1]/p')\n",
    "    describepost1.send_keys(description+'\\n')\n",
    "    videopost1 =  driver.find_element_by_xpath('/html/body/div[3]/div/div/div[2]/div/div/div[1]/div[2]/div/div/div[2]/div/div/div[1]/p')\n",
    "    videopost1.send_keys(link)\n",
    "    time.sleep(10)\n",
    "    post = WebDriverWait(driver, 10).until(EC.element_to_be_clickable((By.XPATH, \"/html/body/div[3]/div/div/div[2]/div/div/div[2]/div[2]/div[3]/button\")))\n",
    "    post.click()"
   ]
  },
  {
   "cell_type": "markdown",
   "metadata": {},
   "source": [
    "# Post video on Pinterest"
   ]
  },
  {
   "cell_type": "code",
   "execution_count": 6,
   "metadata": {},
   "outputs": [],
   "source": [
    "def pinterest_post(email,pss,title1,description):\n",
    "    driver = webdriver.Chrome()\n",
    "    URL = f\"https://www.pinterest.com/\"\n",
    "    driver.get(URL)\n",
    "    driver.get('https://www.pinterest.com/login')\n",
    "    username = driver.find_element_by_xpath('//input[@name=\"id\"]')\n",
    "    username.send_keys(email)\n",
    "    password = driver.find_element_by_xpath('//input[@name=\"password\"]')\n",
    "    password.send_keys(pss)\n",
    "    password.send_keys(Keys.RETURN)\n",
    "    time.sleep(20)\n",
    "    element = WebDriverWait(driver, 15).until(EC.element_to_be_clickable((By.XPATH, \"/html/body/div[1]/div[1]/div[3]/div/div[1]/div[1]/div[1]/div/div/button\")))\n",
    "    element.click()\n",
    "    create = WebDriverWait(driver, 10).until(EC.element_to_be_clickable((By.XPATH, \"/html/body/div[1]/div[1]/div[3]/div/div[1]/div[1]/div[2]/div/div/div/div/div/div[2]/div/div\")))\n",
    "    create.click()\n",
    "    link1=url\n",
    "    time.sleep(10)\n",
    "    videopost =  driver.find_element_by_xpath('/html/body/div[1]/div[1]/div[2]/div/div/div/div[2]/div[2]/div/div/div/div/div/div/div/div/div/div[2]/div/div[2]/div/div[2]/div/div[1]/textarea')\n",
    "    videopost.send_keys(link1)\n",
    "    title =  driver.find_element_by_xpath('/html/body/div[1]/div[1]/div[2]/div/div/div/div[2]/div[2]/div/div/div/div/div/div/div/div/div/div[2]/div/div[2]/div/div[1]/div[1]/div/div/div[1]/textarea')\n",
    "    title.send_keys(title1)\n",
    "    describe1 =  driver.find_element_by_xpath('/html/body/div[1]/div[1]/div[2]/div/div/div/div[2]/div[2]/div/div/div/div/div/div/div/div/div/div[2]/div/div[2]/div/div[1]/div[3]/div/div[1]/div/div/div/div[2]/div/div/div/div')\n",
    "    describe1.send_keys(description)\n",
    "    selectb1 = WebDriverWait(driver, 2).until(EC.element_to_be_clickable((By.XPATH, \"/html/body/div[1]/div[1]/div[2]/div/div/div/div[2]/div[2]/div/div/div/div/div/div/div/div/div/div[1]/div/div[2]/div/div/div/button[1]\")))\n",
    "    selectb1.click()\n",
    "    createb = WebDriverWait(driver, 4).until(EC.element_to_be_clickable((By.XPATH, \"/html/body/div[1]/div[1]/div[2]/div/div/div/div[2]/div[2]/div/div/div/div/div/div/div/div/div/div[1]/div/div[2]/div/div/div[2]/div/div/div/div/div/div/div/div/div[1]/div[3]/div/div/div\")))\n",
    "    createb.click()\n",
    "    textt =  driver.find_element_by_xpath('/html/body/div[3]/div/div/div/div[2]/div/div[2]/div/form/div/div[1]/span/div/input')\n",
    "    textt.send_keys(title1[0:40])\n",
    "    post3 = WebDriverWait(driver, 2).until(EC.element_to_be_clickable((By.XPATH, \"/html/body/div[3]/div/div/div/div[2]/div/div[3]/div/div/div/div/div/button\")))\n",
    "    post3.click()\n",
    "    time.sleep(5)\n",
    "    postpic = driver.find_element_by_xpath(\"/html/body/div[1]/div[1]/div[2]/div/div/div/div[2]/div[2]/div/div/div/div/div/div/div/div/div/div[2]/div/div[1]/div/div/div[1]/div/div/div/input\")\n",
    "    postpic.send_keys(\"C:/Users/Home/maxresdefault.jpg\")\n",
    "    time.sleep(2)\n",
    "    post43 = WebDriverWait(driver, 5).until(EC.element_to_be_clickable((By.XPATH, \"/html/body/div[1]/div[1]/div[2]/div/div/div/div[2]/div[2]/div/div/div/div/div/div/div/div/div/div[1]/div/div[2]/div/div/div/button[2]\")))\n",
    "    post43.click()"
   ]
  },
  {
   "cell_type": "markdown",
   "metadata": {},
   "source": [
    "# Post video on Facebook"
   ]
  },
  {
   "cell_type": "code",
   "execution_count": 7,
   "metadata": {},
   "outputs": [],
   "source": [
    "def facebook_post(email,pss,title1,description):\n",
    "    driver = webdriver.Chrome()\n",
    "    URL = f\"https://m.facebook.com/\"\n",
    "    driver.get(URL)\n",
    "    driver.get('https://m.facebook.com/login')\n",
    "    username = driver.find_element_by_xpath('//input[@name=\"email\"]')\n",
    "    username.send_keys(email)\n",
    "    password = driver.find_element_by_xpath('//input[@name=\"pass\"]')\n",
    "    password.send_keys(pss)\n",
    "    password.send_keys(Keys.RETURN)\n",
    "    time.sleep(5)\n",
    "    element = WebDriverWait(driver, 10).until(EC.element_to_be_clickable((By.XPATH, \"/html/body/div[1]/div/div[2]/div/div[1]/div/div/div[3]/div[1]/div\")))\n",
    "    element.click()\n",
    "    newpost = WebDriverWait(driver, 10).until(EC.element_to_be_clickable((By.XPATH, \"/html/body/div[1]/div/div[4]/div/div[1]/div[3]/div/div/div[1]/div[2]\")))\n",
    "    newpost.click()\n",
    "    time.sleep(2)\n",
    "    titlepost=driver.find_element_by_class_name('composerInput.mentions-input')\n",
    "    titlepost.click()\n",
    "    titlepost.send_keys(title1+'\\n')\n",
    "    describepost=driver.find_element_by_class_name('composerInput.mentions-input')\n",
    "    describepost.send_keys(description+'\\n')\n",
    "    videopost =  driver.find_element_by_class_name('composerInput.mentions-input')\n",
    "    videopost.send_keys(url)\n",
    "    time.sleep(5)\n",
    "    postt = WebDriverWait(driver, 10).until(EC.element_to_be_clickable((By.XPATH, \"/html/body/div[2]/div[1]/div/div[2]/div/div/div[5]/div[3]/div/div/button\")))\n",
    "    postt.click()"
   ]
  },
  {
   "cell_type": "markdown",
   "metadata": {},
   "source": [
    "# User login details"
   ]
  },
  {
   "cell_type": "code",
   "execution_count": 8,
   "metadata": {},
   "outputs": [
    {
     "name": "stdout",
     "output_type": "stream",
     "text": [
      "Downloading Thumbnail...\n",
      "100% [..............................................................................] 99767 / 99767\n",
      "Thumbnail Downloaded\n",
      "2nd Test Day 5 | India Tour Of England 2021 | Wickets | 16th August | Hindi\n",
      "Click here to watch more: http://bitly.ws/fFrK\n",
      "\n",
      "Click here to subscribe now: http://bitly.ws/aJ4r\n",
      "2nd Test Day 5 | India Tour Of England 2021 | Wickets | 16th August | Hindi\n",
      "Click here to watch more: http://bitly.ws/fFrK\n",
      "\n",
      "Click here to subscribe now: http://bitly.ws/aJ4r\n"
     ]
    }
   ],
   "source": [
    "if postvideo==False:\n",
    "    email2 = '03115495373'\n",
    "    password2 = 'Global@123' \n",
    "    email3 = 'danialspotify123@gmail.com' \n",
    "    password3 = 'Global@123' \n",
    "    email4 = 'i191861@nu.edu.pk'\n",
    "    password4 = '123pakistan'\n",
    "    url = videolinks[-1]\n",
    "    details = youtube_video_details(url)\n",
    "    linkedin_post(email3, password3, details[0], details[1])\n",
    "    pinterest_post(email4,password4,details[0], details[1])\n",
    "    facebook_post(email2,password2,details[0], details[1])\n",
    "    os.remove(\"C:/Users/Home/maxresdefault.jpg\")"
   ]
  }
 ],
 "metadata": {
  "kernelspec": {
   "display_name": "Python 3 (ipykernel)",
   "language": "python",
   "name": "python3"
  },
  "language_info": {
   "codemirror_mode": {
    "name": "ipython",
    "version": 3
   },
   "file_extension": ".py",
   "mimetype": "text/x-python",
   "name": "python",
   "nbconvert_exporter": "python",
   "pygments_lexer": "ipython3",
   "version": "3.9.7"
  }
 },
 "nbformat": 4,
 "nbformat_minor": 4
}
